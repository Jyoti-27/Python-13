{
 "cells": [
  {
   "cell_type": "code",
   "execution_count": 32,
   "metadata": {},
   "outputs": [
    {
     "name": "stdout",
     "output_type": "stream",
     "text": [
      "DataAnalytics\n",
      "DataAnalyst\n",
      "DataScience\n",
      "DataScientist\n"
     ]
    }
   ],
   "source": [
    "# Create a class called DataFolkz\n",
    "# and Defne some attributes any two then create two instances of it.\n",
    "\n",
    "class DataFolkz:\n",
    "    def __init__(self,Certification,Job):\n",
    "        self.Certification = Certification\n",
    "        self.Job = Job\n",
    "        \n",
    "PCDA = DataFolkz('DataAnalytics','DataAnalyst')\n",
    "PCDS = DataFolkz('DataScience','DataScientist')\n",
    "\n",
    "print(PCDA.Certification)\n",
    "print(PCDA.Job)\n",
    "print(PCDS.Certification)\n",
    "print(PCDS.Job)"
   ]
  },
  {
   "cell_type": "code",
   "execution_count": 24,
   "metadata": {},
   "outputs": [
    {
     "name": "stdout",
     "output_type": "stream",
     "text": [
      "PCDS\n",
      "4\n",
      "PCDA\n",
      "6\n"
     ]
    }
   ],
   "source": [
    "class DataFolkz:\n",
    "    def __init__(self,Course,Duration):\n",
    "        self.Course = Course\n",
    "        self.Duration = Duration\n",
    "Course1 = DataFolkz('PCDS',4)\n",
    "Course2 = DataFolkz('PCDA',6)\n",
    "print(Course1.Course)\n",
    "print(Course1.Duration)\n",
    "print(Course2.Course)\n",
    "print(Course2.Duration)"
   ]
  },
  {
   "cell_type": "markdown",
   "metadata": {},
   "source": [
    "- Creare a class Cars\n",
    "- When it comes to any car there are some basic facilities such as engine,color,steering...\n",
    "- so any car will have above features which can be considered as the class features.\n",
    "- But in addition to this we can also\n"
   ]
  },
  {
   "cell_type": "markdown",
   "metadata": {},
   "source": [
    "- If you want to call the instance attributes,those can be called only with the help of the instances.\n",
    "- But the class attributes can be called either using the class or using the instances."
   ]
  },
  {
   "cell_type": "code",
   "execution_count": 36,
   "metadata": {},
   "outputs": [
    {
     "name": "stdout",
     "output_type": "stream",
     "text": [
      "midlayer cars White 4 Automatic\n",
      "basic cars Red 4 Manual\n"
     ]
    }
   ],
   "source": [
    "class Cars:\n",
    "      # class variables\n",
    "        no_of_wheels = 4\n",
    "\n",
    "      # Instance Variables\n",
    "        def __init__(self,color,steering):\n",
    "            self.color = color\n",
    "            self.steering = steering\n",
    "            \n",
    "midlayer = Cars(\"White\",\"Automatic\")\n",
    "basic = Cars(\"Red\",\"Manual\")\n",
    "print(\"midlayer cars\",midlayer.color,midlayer.no_of_wheels,midlayer.steering)\n",
    "print(\"basic cars\",basic.color,basic.no_of_wheels,basic.steering)"
   ]
  },
  {
   "cell_type": "code",
   "execution_count": 84,
   "metadata": {},
   "outputs": [
    {
     "data": {
      "text/plain": [
       "'mammals'"
      ]
     },
     "execution_count": 84,
     "metadata": {},
     "output_type": "execute_result"
    }
   ],
   "source": [
    "class Dogs:\n",
    "    #class variables\n",
    "    species = \"mammals\"\n",
    "    \n",
    "     #instance variables\n",
    "    def __init__(self,breed):\n",
    "        self.breed = breed\n",
    "   \n",
    " # Create an instance of it\n",
    "Snoopy = Dogs('pomerian')\n",
    "Snoopy.breed\n",
    "Snoopy.species\n",
    "Dogs.species"
   ]
  },
  {
   "cell_type": "code",
   "execution_count": null,
   "metadata": {},
   "outputs": [],
   "source": [
    "class Dog\n",
    "     #Initializae / Instance Attributes\n",
    "    def __init__(self, name, age):\n",
    "        self.name = name\n",
    "        self.age = age"
   ]
  },
  {
   "cell_type": "code",
   "execution_count": 19,
   "metadata": {},
   "outputs": [
    {
     "name": "stdout",
     "output_type": "stream",
     "text": [
      "Malli is 6 and Snoopy is 7.\n",
      "Mammal\n",
      "Malli\n",
      "6\n"
     ]
    }
   ],
   "source": [
    "class Dog:\n",
    "    # Class Attribute\n",
    "    species = 'Mammal'\n",
    "    \n",
    "    # Initializer / Instance Attribute\n",
    "    def __init__(self,name,age):\n",
    "        self.name = name\n",
    "        self.age = age\n",
    "    \n",
    "# Instantiating the object for the class Dog\n",
    "Malli = Dog(\"Malli\",6)\n",
    "Snoopy = Dog(\"Snoopy\",7)\n",
    "\n",
    "# Aceess the instance attributes\n",
    "print(\"{} is {} and {} is {}.\".format(Malli.name,Malli.age,Snoopy.name,Snoopy.age))\n",
    "print(Malli.species)\n",
    "print(Malli.name)\n",
    "print(Malli.age)"
   ]
  },
  {
   "cell_type": "markdown",
   "metadata": {},
   "source": [
    "## Methods in Python OOPS\n",
    "- 1. Class Methods\n",
    "- 2. Instance Methods\n",
    "- 3. Static Methods "
   ]
  },
  {
   "cell_type": "markdown",
   "metadata": {},
   "source": [
    "- Create class of Cubes then create the instance attributes length,width and height then create instance method to find the volume of the cube then create some instance/object of the class Cubes and find the volume."
   ]
  },
  {
   "cell_type": "code",
   "execution_count": 46,
   "metadata": {},
   "outputs": [
    {
     "data": {
      "text/plain": [
       "90"
      ]
     },
     "execution_count": 46,
     "metadata": {},
     "output_type": "execute_result"
    }
   ],
   "source": [
    "class Cubes:\n",
    "    \n",
    "    # Initializer / Instance Attribute\n",
    "    def __init__(self,length,width,height):\n",
    "        self.length = length\n",
    "        self.width = width\n",
    "        self.height = height\n",
    "   \n",
    "   # Instance Methods\n",
    "    def volume(self):\n",
    "        return self.length*self.width*self.height\n",
    "    \n",
    "# Object or instances with length,width,height\n",
    "Cube1 = Cubes(3,5,6)   \n",
    "Cube1.volume()    # Object\n"
   ]
  },
  {
   "cell_type": "code",
   "execution_count": 47,
   "metadata": {},
   "outputs": [
    {
     "name": "stdout",
     "output_type": "stream",
     "text": [
      "Enter Length =5\n",
      "Enter Breadth =4\n",
      "Enter Height =9\n",
      "Volume =  180.0\n"
     ]
    }
   ],
   "source": [
    "# TO calculate the volume of a box.\n",
    "class Vol_box:\n",
    "    def __init__(self):\n",
    "        self.Length = float(input(\"Enter Length =\"))\n",
    "        self.Breadth = float(input(\"Enter Breadth =\"))\n",
    "        self.Height = float(input(\"Enter Height =\"))\n",
    "        #print(self.Length)\n",
    "    def volume(self):\n",
    "        Volume = self.Length*self.Breadth*self.Height\n",
    "        print(\"Volume = \", Volume) \n",
    "Vol = Vol_box()\n",
    "Vol.volume()\n",
    "        "
   ]
  },
  {
   "cell_type": "markdown",
   "metadata": {},
   "source": [
    "-  FInd a class of Rectangles \n",
    "- then create two instance attributes length and width\n",
    "- then create instance method to find the area\n",
    "- then create another instance method to find the primeter\n",
    "- then create two objects of the class rectangles and find the area and perimeter.\n",
    "- but please do it using the input method i.e. dynamic methods"
   ]
  },
  {
   "cell_type": "code",
   "execution_count": 55,
   "metadata": {},
   "outputs": [
    {
     "name": "stdout",
     "output_type": "stream",
     "text": [
      "Enter Length =9\n",
      "Enter Width =5\n",
      "Perimeter =  28.0\n"
     ]
    }
   ],
   "source": [
    "# To calculate the volume of rectangle\n",
    "class Vol_rectangle:\n",
    "    def __init__(self):\n",
    "        self.Length = float(input(\"Enter Length =\"))\n",
    "        self.Breadth = float(input(\"Enter Width =\"))\n",
    "    def area(self):\n",
    "        area = self.Length*self.Breadth\n",
    "    def perimeter(self):\n",
    "        Perimeter = 2*(self.Length + self.Breadth)\n",
    "        print(\"Perimeter = \",Perimeter)\n",
    "        \n",
    "Vol = Vol_rectangle()\n",
    "Vol.area()\n",
    "Vol.perimeter()"
   ]
  },
  {
   "cell_type": "code",
   "execution_count": 83,
   "metadata": {},
   "outputs": [
    {
     "name": "stdout",
     "output_type": "stream",
     "text": [
      "Enter Length =5\n",
      "Enter Width =8\n",
      "Area 40\n",
      "Perimeter =  26\n"
     ]
    }
   ],
   "source": [
    "# TO calculate the area and perimeter of Rectangle.\n",
    "\n",
    "class Rectangle:\n",
    "    def __init__(self):\n",
    "        self.Length = int(input(\"Enter Length =\"))\n",
    "        self.Width = int(input(\"Enter Width =\"))\n",
    "    def area(self):\n",
    "        area = self.Length*self.Width\n",
    "        print(\"Area\",area)\n",
    "    def perimeter(self):\n",
    "        perimeter = 2*(self.Length + self.Width)\n",
    "        print(\"Perimeter = \",perimeter)\n",
    "        \n",
    "rectangle1 = Rectangle()\n",
    "rectangle1.area()\n",
    "rectangle1.perimeter()"
   ]
  },
  {
   "cell_type": "markdown",
   "metadata": {},
   "source": [
    "- Create a class of Students - then create three instance variables math,science and social\n",
    "- then create a instance method to find the average of marks score in maths\n",
    "- then create an object of the class students and find the average"
   ]
  },
  {
   "cell_type": "code",
   "execution_count": 77,
   "metadata": {},
   "outputs": [
    {
     "name": "stdout",
     "output_type": "stream",
     "text": [
      "Enter marks scored78\n",
      "Enter marks scored89\n",
      "Enter marks scored90\n",
      "Average mark is: 85.66666666666667\n"
     ]
    }
   ],
   "source": [
    "class Students:\n",
    "    def __init__(self):\n",
    "        self.math = float(input(\"Enter marks scored\"))\n",
    "        self.science = float(input(\"Enter marks scored\"))\n",
    "        self.social = float(input(\"Enter marks scored\"))\n",
    "    def avg(self):\n",
    "        avg = (self.math + self.science + self.social)/3\n",
    "        print(\"Average mark is:\",avg)\n",
    "Student1 = Students()\n",
    "Student1.avg()"
   ]
  },
  {
   "cell_type": "code",
   "execution_count": 79,
   "metadata": {},
   "outputs": [
    {
     "name": "stdout",
     "output_type": "stream",
     "text": [
      "Enter marks scored95\n",
      "Enter marks scored88\n",
      "Enter marks scored73\n",
      "Average mark is: 85.33333333333333\n"
     ]
    }
   ],
   "source": [
    "class Students:\n",
    "    def __init__(self):\n",
    "        self.math = float(input(\"Enter marks scored\"))\n",
    "        self.science = float(input(\"Enter marks scored\"))\n",
    "        self.social = float(input(\"Enter marks scored\"))\n",
    "    def avg(self):\n",
    "        Average = (self.math + self.science + self.social)/3\n",
    "        print(\"Average mark is:\",Average)\n",
    "Average = Students()\n",
    "Average.avg()"
   ]
  },
  {
   "cell_type": "code",
   "execution_count": 66,
   "metadata": {},
   "outputs": [
    {
     "name": "stdout",
     "output_type": "stream",
     "text": [
      "Ruby is 8 years old\n",
      "Ruby says Gruff Gruff\n"
     ]
    },
    {
     "data": {
      "text/plain": [
       "'Ruby'"
      ]
     },
     "execution_count": 66,
     "metadata": {},
     "output_type": "execute_result"
    }
   ],
   "source": [
    "class Dog:\n",
    "    \n",
    "   # Class Attribute\n",
    "     species = 'mammal'\n",
    "   # Initializer / Instance Attributes\n",
    "     def __init__(self,name,age):\n",
    "        self.name = name\n",
    "        self.age = age\n",
    "        \n",
    "    # Instance Method\n",
    "     def description(self):\n",
    "        return\"{} is {} years old\".format(self.name,self.age)\n",
    "    \n",
    "    # Instance Method\n",
    "     def speak(self,sound):\n",
    "        return \"{} says {}\".format(self.name,sound)\n",
    "    \n",
    "# Instantiate the dog object\n",
    "Ruby = Dog(\"Ruby\",8)\n",
    "\n",
    "# Call our Instance Methods\n",
    "print(Ruby.description())\n",
    "print(Ruby.speak(\"Gruff Gruff\"))\n",
    "Ruby.name"
   ]
  },
  {
   "cell_type": "code",
   "execution_count": null,
   "metadata": {},
   "outputs": [],
   "source": []
  },
  {
   "cell_type": "code",
   "execution_count": null,
   "metadata": {},
   "outputs": [],
   "source": []
  },
  {
   "cell_type": "code",
   "execution_count": null,
   "metadata": {},
   "outputs": [],
   "source": []
  }
 ],
 "metadata": {
  "kernelspec": {
   "display_name": "Python 3",
   "language": "python",
   "name": "python3"
  },
  "language_info": {
   "codemirror_mode": {
    "name": "ipython",
    "version": 3
   },
   "file_extension": ".py",
   "mimetype": "text/x-python",
   "name": "python",
   "nbconvert_exporter": "python",
   "pygments_lexer": "ipython3",
   "version": "3.7.6"
  }
 },
 "nbformat": 4,
 "nbformat_minor": 4
}
